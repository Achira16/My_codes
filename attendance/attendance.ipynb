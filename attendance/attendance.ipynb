{
 "metadata": {
  "language_info": {
   "codemirror_mode": {
    "name": "ipython",
    "version": 3
   },
   "file_extension": ".py",
   "mimetype": "text/x-python",
   "name": "python",
   "nbconvert_exporter": "python",
   "pygments_lexer": "ipython3",
   "version": "3.8.4-final"
  },
  "orig_nbformat": 2,
  "kernelspec": {
   "name": "python_defaultSpec_1600348627569",
   "display_name": "Python 3.8.4 64-bit"
  }
 },
 "nbformat": 4,
 "nbformat_minor": 2,
 "cells": [
  {
   "cell_type": "code",
   "execution_count": 1,
   "metadata": {},
   "outputs": [],
   "source": [
    "import pandas as pd"
   ]
  },
  {
   "cell_type": "code",
   "execution_count": 36,
   "metadata": {},
   "outputs": [
    {
     "output_type": "execute_result",
     "data": {
      "text/plain": "                                             name\n0                                 RANJAN SENGUPTA\n1                                   LAKSHYA THAPA\n2                                 ARINDAM CHALIHA\n3                                 GYANDEEP SARMAH\n4                                  SASHANK SHARMA\n..                                            ...\n64                                  MOHIT PRADHAN\n65                                  SAMRAT HALDAR\n66  ADITYA KUMAR (RJ: CS1537 (EL) (ADV. WEB TECH)\n67                SHANTAM GURUNG  (RJ: CS1566-SE)\n68         SAKSHAM GUPTA (MA1502, CS1567- SL Lab)\n\n[69 rows x 1 columns]",
      "text/html": "<div>\n<style scoped>\n    .dataframe tbody tr th:only-of-type {\n        vertical-align: middle;\n    }\n\n    .dataframe tbody tr th {\n        vertical-align: top;\n    }\n\n    .dataframe thead th {\n        text-align: right;\n    }\n</style>\n<table border=\"1\" class=\"dataframe\">\n  <thead>\n    <tr style=\"text-align: right;\">\n      <th></th>\n      <th>name</th>\n    </tr>\n  </thead>\n  <tbody>\n    <tr>\n      <th>0</th>\n      <td>RANJAN SENGUPTA</td>\n    </tr>\n    <tr>\n      <th>1</th>\n      <td>LAKSHYA THAPA</td>\n    </tr>\n    <tr>\n      <th>2</th>\n      <td>ARINDAM CHALIHA</td>\n    </tr>\n    <tr>\n      <th>3</th>\n      <td>GYANDEEP SARMAH</td>\n    </tr>\n    <tr>\n      <th>4</th>\n      <td>SASHANK SHARMA</td>\n    </tr>\n    <tr>\n      <th>...</th>\n      <td>...</td>\n    </tr>\n    <tr>\n      <th>64</th>\n      <td>MOHIT PRADHAN</td>\n    </tr>\n    <tr>\n      <th>65</th>\n      <td>SAMRAT HALDAR</td>\n    </tr>\n    <tr>\n      <th>66</th>\n      <td>ADITYA KUMAR (RJ: CS1537 (EL) (ADV. WEB TECH)</td>\n    </tr>\n    <tr>\n      <th>67</th>\n      <td>SHANTAM GURUNG  (RJ: CS1566-SE)</td>\n    </tr>\n    <tr>\n      <th>68</th>\n      <td>SAKSHAM GUPTA (MA1502, CS1567- SL Lab)</td>\n    </tr>\n  </tbody>\n</table>\n<p>69 rows × 1 columns</p>\n</div>"
     },
     "metadata": {},
     "execution_count": 36
    }
   ],
   "source": [
    "main = pd.read_excel('main.xlsx',usecols=['name'])\n",
    "main"
   ]
  },
  {
   "cell_type": "code",
   "execution_count": 37,
   "metadata": {},
   "outputs": [
    {
     "output_type": "execute_result",
     "data": {
      "text/plain": "                                      name\n0                          RANJAN SENGUPTA\n1                            LAKSHYA THAPA\n2                          ARINDAM CHALIHA\n3                          GYANDEEP SARMAH\n4                           SASHANK SHARMA\n..                                     ...\n62                         SWARNIM PAUDYAL\n63                           HISSEY BHUTIA\n64                           MOHIT PRADHAN\n65                           SAMRAT HALDAR\n68  SAKSHAM GUPTA (MA1502, CS1567- SL Lab)\n\n[67 rows x 1 columns]",
      "text/html": "<div>\n<style scoped>\n    .dataframe tbody tr th:only-of-type {\n        vertical-align: middle;\n    }\n\n    .dataframe tbody tr th {\n        vertical-align: top;\n    }\n\n    .dataframe thead th {\n        text-align: right;\n    }\n</style>\n<table border=\"1\" class=\"dataframe\">\n  <thead>\n    <tr style=\"text-align: right;\">\n      <th></th>\n      <th>name</th>\n    </tr>\n  </thead>\n  <tbody>\n    <tr>\n      <th>0</th>\n      <td>RANJAN SENGUPTA</td>\n    </tr>\n    <tr>\n      <th>1</th>\n      <td>LAKSHYA THAPA</td>\n    </tr>\n    <tr>\n      <th>2</th>\n      <td>ARINDAM CHALIHA</td>\n    </tr>\n    <tr>\n      <th>3</th>\n      <td>GYANDEEP SARMAH</td>\n    </tr>\n    <tr>\n      <th>4</th>\n      <td>SASHANK SHARMA</td>\n    </tr>\n    <tr>\n      <th>...</th>\n      <td>...</td>\n    </tr>\n    <tr>\n      <th>62</th>\n      <td>SWARNIM PAUDYAL</td>\n    </tr>\n    <tr>\n      <th>63</th>\n      <td>HISSEY BHUTIA</td>\n    </tr>\n    <tr>\n      <th>64</th>\n      <td>MOHIT PRADHAN</td>\n    </tr>\n    <tr>\n      <th>65</th>\n      <td>SAMRAT HALDAR</td>\n    </tr>\n    <tr>\n      <th>68</th>\n      <td>SAKSHAM GUPTA (MA1502, CS1567- SL Lab)</td>\n    </tr>\n  </tbody>\n</table>\n<p>67 rows × 1 columns</p>\n</div>"
     },
     "metadata": {},
     "execution_count": 37
    }
   ],
   "source": [
    "main.drop([66,67],axis=0,inplace=True)\n",
    "main"
   ]
  },
  {
   "cell_type": "code",
   "execution_count": 38,
   "metadata": {},
   "outputs": [],
   "source": [
    "main.replace('SAKSHAM GUPTA (MA1502, CS1567- SL Lab)','SAKSHAM GUPTA',inplace=True)"
   ]
  },
  {
   "cell_type": "code",
   "execution_count": 39,
   "metadata": {},
   "outputs": [
    {
     "output_type": "execute_result",
     "data": {
      "text/plain": "               name\n0   RANJAN SENGUPTA\n1     LAKSHYA THAPA\n2   ARINDAM CHALIHA\n3   GYANDEEP SARMAH\n4    SASHANK SHARMA\n..              ...\n62  SWARNIM PAUDYAL\n63    HISSEY BHUTIA\n64    MOHIT PRADHAN\n65    SAMRAT HALDAR\n68    SAKSHAM GUPTA\n\n[67 rows x 1 columns]",
      "text/html": "<div>\n<style scoped>\n    .dataframe tbody tr th:only-of-type {\n        vertical-align: middle;\n    }\n\n    .dataframe tbody tr th {\n        vertical-align: top;\n    }\n\n    .dataframe thead th {\n        text-align: right;\n    }\n</style>\n<table border=\"1\" class=\"dataframe\">\n  <thead>\n    <tr style=\"text-align: right;\">\n      <th></th>\n      <th>name</th>\n    </tr>\n  </thead>\n  <tbody>\n    <tr>\n      <th>0</th>\n      <td>RANJAN SENGUPTA</td>\n    </tr>\n    <tr>\n      <th>1</th>\n      <td>LAKSHYA THAPA</td>\n    </tr>\n    <tr>\n      <th>2</th>\n      <td>ARINDAM CHALIHA</td>\n    </tr>\n    <tr>\n      <th>3</th>\n      <td>GYANDEEP SARMAH</td>\n    </tr>\n    <tr>\n      <th>4</th>\n      <td>SASHANK SHARMA</td>\n    </tr>\n    <tr>\n      <th>...</th>\n      <td>...</td>\n    </tr>\n    <tr>\n      <th>62</th>\n      <td>SWARNIM PAUDYAL</td>\n    </tr>\n    <tr>\n      <th>63</th>\n      <td>HISSEY BHUTIA</td>\n    </tr>\n    <tr>\n      <th>64</th>\n      <td>MOHIT PRADHAN</td>\n    </tr>\n    <tr>\n      <th>65</th>\n      <td>SAMRAT HALDAR</td>\n    </tr>\n    <tr>\n      <th>68</th>\n      <td>SAKSHAM GUPTA</td>\n    </tr>\n  </tbody>\n</table>\n<p>67 rows × 1 columns</p>\n</div>"
     },
     "metadata": {},
     "execution_count": 39
    }
   ],
   "source": [
    "main"
   ]
  },
  {
   "cell_type": "code",
   "execution_count": 71,
   "metadata": {},
   "outputs": [
    {
     "output_type": "execute_result",
     "data": {
      "text/plain": "                           name\n9               DEBASHISH GOGOI\n16           HARISH CHANDRA DAS\n83            HARISHCHANDRA DAS\n72                 HARSHVARDHAN\n42         HARSHVARDHAN AGARWAL\n65                SAMRAT HALDAR\n71                SAMRAT HALDER\n105          SHREYANSH A SHUKLA\n26   SHREYANSH ALOKKUMAR SHUKLA\n62              SWARNIM PAUDYAL",
      "text/html": "<div>\n<style scoped>\n    .dataframe tbody tr th:only-of-type {\n        vertical-align: middle;\n    }\n\n    .dataframe tbody tr th {\n        vertical-align: top;\n    }\n\n    .dataframe thead th {\n        text-align: right;\n    }\n</style>\n<table border=\"1\" class=\"dataframe\">\n  <thead>\n    <tr style=\"text-align: right;\">\n      <th></th>\n      <th>name</th>\n    </tr>\n  </thead>\n  <tbody>\n    <tr>\n      <th>9</th>\n      <td>DEBASHISH GOGOI</td>\n    </tr>\n    <tr>\n      <th>16</th>\n      <td>HARISH CHANDRA DAS</td>\n    </tr>\n    <tr>\n      <th>83</th>\n      <td>HARISHCHANDRA DAS</td>\n    </tr>\n    <tr>\n      <th>72</th>\n      <td>HARSHVARDHAN</td>\n    </tr>\n    <tr>\n      <th>42</th>\n      <td>HARSHVARDHAN AGARWAL</td>\n    </tr>\n    <tr>\n      <th>65</th>\n      <td>SAMRAT HALDAR</td>\n    </tr>\n    <tr>\n      <th>71</th>\n      <td>SAMRAT HALDER</td>\n    </tr>\n    <tr>\n      <th>105</th>\n      <td>SHREYANSH A SHUKLA</td>\n    </tr>\n    <tr>\n      <th>26</th>\n      <td>SHREYANSH ALOKKUMAR SHUKLA</td>\n    </tr>\n    <tr>\n      <th>62</th>\n      <td>SWARNIM PAUDYAL</td>\n    </tr>\n  </tbody>\n</table>\n</div>"
     },
     "metadata": {},
     "execution_count": 71
    }
   ],
   "source": [
    "cur = pd.read_excel('cur.xlsx',usecols=['name'])\n",
    "df = pd.concat([main,cur],ignore_index=True)\n",
    "gr = df.groupby('name')\n",
    "index = [x[0] for x in gr.groups.values() if len(x) == 1]\n",
    "df.reindex(index)"
   ]
  },
  {
   "cell_type": "code",
   "execution_count": 73,
   "metadata": {
    "tags": []
   },
   "outputs": [
    {
     "output_type": "stream",
     "name": "stdout",
     "text": "1\n2\n"
    }
   ],
   "source": [
    "d = {'ab':[1,2],'abc':[2]}\n",
    "for x in d.values():\n",
    "    print(x[0])"
   ]
  },
  {
   "cell_type": "code",
   "execution_count": null,
   "metadata": {},
   "outputs": [],
   "source": []
  }
 ]
}